{
 "cells": [
  {
   "cell_type": "markdown",
   "metadata": {},
   "source": [
    "# Compute the correlation of the provided annotations and various IQA metrics."
   ]
  },
  {
   "cell_type": "code",
   "execution_count": 5,
   "metadata": {
    "metadata": {}
   },
   "outputs": [],
   "source": [
    "import os\n",
    "import numpy as np\n",
    "import pandas as pd\n",
    "from scipy.io import savemat, loadmat\n",
    "from scipy.stats import zscore\n",
    "\n",
    "#list of all IQA metrics to compute the correlation for\n",
    "alglist=[\"SSIM_matlab\",\"SSIM_python_pytorch\",\"IW-SSIM_matlab\",\"PSNR_matlab\",\"PSNR_python_pytorch\",\"MS-SSIM_matlab\",\"MS-SSIM_python_pytorch\",\"DISTS_matlab\",\"DISTS_python_pytorch\",\"DSS_matlab\",\"FSIM_matlab\",\"GMSD_matlab\",\"HaarPSI_matlab\",\"HaarPsi_python_tensorflow\",\"LPIPS_python\",\"MDSI_matlab\",\"VIF_python_pytorch\",\"VSI_matlab\",\"niqe_matlab\",\"PAQ2PIQ_python\",\"BRISQUE_matlab\"]"
   ]
  },
  {
   "cell_type": "code",
   "execution_count": 2,
   "metadata": {},
   "outputs": [],
   "source": [
    "def compute_corr(df_annotations, method=\"spearman\"):\n",
    "    corr = df_annotations.corr(method=method)\n",
    "    mask = np.tril(np.ones(corr.shape) * np.nan, k=0)\n",
    "    mask[mask == 0] = 1\n",
    "    return corr * mask"
   ]
  },
  {
   "cell_type": "code",
   "execution_count": 6,
   "metadata": {},
   "outputs": [
    {
     "data": {
      "text/plain": [
       "'live'"
      ]
     },
     "metadata": {},
     "output_type": "display_data"
    },
    {
     "data": {
      "text/plain": [
       "'spearman'"
      ]
     },
     "metadata": {},
     "output_type": "display_data"
    },
    {
     "data": {
      "text/html": [
       "<div>\n",
       "<style scoped>\n",
       "    .dataframe tbody tr th:only-of-type {\n",
       "        vertical-align: middle;\n",
       "    }\n",
       "\n",
       "    .dataframe tbody tr th {\n",
       "        vertical-align: top;\n",
       "    }\n",
       "\n",
       "    .dataframe thead th {\n",
       "        text-align: right;\n",
       "    }\n",
       "</style>\n",
       "<table border=\"1\" class=\"dataframe\">\n",
       "  <thead>\n",
       "    <tr style=\"text-align: right;\">\n",
       "      <th></th>\n",
       "      <th>live</th>\n",
       "    </tr>\n",
       "  </thead>\n",
       "  <tbody>\n",
       "    <tr>\n",
       "      <th>SSIM_python_pytorch</th>\n",
       "      <td>0.88</td>\n",
       "    </tr>\n",
       "  </tbody>\n",
       "</table>\n",
       "</div>"
      ],
      "text/plain": [
       "                     live\n",
       "SSIM_python_pytorch  0.88"
      ]
     },
     "metadata": {},
     "output_type": "display_data"
    },
    {
     "data": {
      "text/plain": [
       "'kendall'"
      ]
     },
     "metadata": {},
     "output_type": "display_data"
    },
    {
     "data": {
      "text/html": [
       "<div>\n",
       "<style scoped>\n",
       "    .dataframe tbody tr th:only-of-type {\n",
       "        vertical-align: middle;\n",
       "    }\n",
       "\n",
       "    .dataframe tbody tr th {\n",
       "        vertical-align: top;\n",
       "    }\n",
       "\n",
       "    .dataframe thead th {\n",
       "        text-align: right;\n",
       "    }\n",
       "</style>\n",
       "<table border=\"1\" class=\"dataframe\">\n",
       "  <thead>\n",
       "    <tr style=\"text-align: right;\">\n",
       "      <th></th>\n",
       "      <th>live</th>\n",
       "    </tr>\n",
       "  </thead>\n",
       "  <tbody>\n",
       "    <tr>\n",
       "      <th>SSIM_python_pytorch</th>\n",
       "      <td>0.71</td>\n",
       "    </tr>\n",
       "  </tbody>\n",
       "</table>\n",
       "</div>"
      ],
      "text/plain": [
       "                     live\n",
       "SSIM_python_pytorch  0.71"
      ]
     },
     "metadata": {},
     "output_type": "display_data"
    }
   ],
   "source": [
    "dataset_name_list=[\"live\"]\n",
    "corr_matrices_spear={}\n",
    "corr_matrices_kendall={}\n",
    "df_all_dict={}\n",
    "for dataset_name in dataset_name_list:\n",
    "        directory = os.fsencode(\"../annotations/\"+dataset_name)\n",
    "        dists = dict()\n",
    "        df_name=pd.read_csv(directory.decode(\"utf-8\")+\"/\"+os.listdir(directory)[0].decode(\"utf-8\")).filename\n",
    "        df_all =  pd.DataFrame(index = df_name)\n",
    "        for file in os.listdir(directory):\n",
    "                df_temp =pd.read_csv(directory.decode(\"utf-8\")+\"/\"+file.decode(\"utf-8\"))\n",
    "                df_temp.index=df_temp.filename\n",
    "                df_temp=df_temp.overall_quality\n",
    "                df_temp.name=\"overall_quality_\"+file.decode(\"utf-8\")\n",
    "                df_all=pd.concat([df_all,df_temp], axis=1)\n",
    "        df_all=df_all.apply(zscore)\n",
    "        df_all[\"mean_human\"] = df_all.mean(axis=1)\n",
    "        for alg in alglist:\n",
    "                try:\n",
    "                        directory = os.fsencode(\"../results/\"+dataset_name+\"/\"+alg+\"/\")\n",
    "                        dists = dict()\n",
    "                        for file in os.listdir(directory):\n",
    "                                namestr=loadmat(directory+file)[\"name\"][0]\n",
    "                                dists[namestr] = loadmat(directory+file)[\"algorithmvalue\"][0,0]\n",
    "                        df = pd.DataFrame(list(dists.items()), columns=['deg_name', alg])\n",
    "                        df.set_index('deg_name', inplace=True)\n",
    "                        df = df.sort_index()\n",
    "                        df_all = pd.concat([df_all, df], axis=1)\n",
    "                except:\n",
    "                        print(\"results for \"+alg+ \" do not exist\")\n",
    "        df_all.replace([np.inf], 1000, inplace=True)\n",
    "        df_all_dict[dataset_name]=df_all.copy()\n",
    "        corr_matrix_spear = compute_corr(df_all,\"spearman\")\n",
    "        corr_matrix_spear=corr_matrix_spear.loc[[\"mean_human\"],alglist].transpose().rename({\"mean_human\":dataset_name},axis=\"columns\")\n",
    "        corr_matrices_spear[dataset_name]=corr_matrix_spear\n",
    "        corr_matrix_kendall = compute_corr(df_all,\"kendall\")\n",
    "        corr_matrix_kendall=corr_matrix_kendall.loc[[\"mean_human\"],alglist].transpose().rename({\"mean_human\":dataset_name},axis=\"columns\")\n",
    "        corr_matrices_kendall[dataset_name]=corr_matrix_kendall\n",
    "        display(dataset_name)\n",
    "        display(\"spearman\")\n",
    "        table2_spear=corr_matrices_spear[dataset_name].round(2)\n",
    "        display(table2_spear)\n",
    "        display(\"kendall\")\n",
    "        table2_kendall=corr_matrices_kendall[dataset_name].round(2)\n",
    "        display(table2_kendall)"
   ]
  },
  {
   "cell_type": "code",
   "execution_count": null,
   "metadata": {},
   "outputs": [],
   "source": []
  }
 ],
 "metadata": {
  "kernelspec": {
   "display_name": "Python 3 (ipykernel)",
   "language": "python",
   "name": "python3"
  },
  "language_info": {
   "codemirror_mode": {
    "name": "ipython",
    "version": 3
   },
   "file_extension": ".py",
   "mimetype": "text/x-python",
   "name": "python",
   "nbconvert_exporter": "python",
   "pygments_lexer": "ipython3",
   "version": "3.12.3"
  }
 },
 "nbformat": 4,
 "nbformat_minor": 4
}
